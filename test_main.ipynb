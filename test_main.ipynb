{
 "cells": [
  {
   "cell_type": "code",
   "execution_count": 6,
   "id": "95eddb1b-8eb8-45c3-a448-872d242beb40",
   "metadata": {},
   "outputs": [],
   "source": [
    "from kkbox_developer_sdk.auth_flow import KKBOXOAuth\n",
    "from kkbox_developer_sdk.api import KKBOXAPI\n",
    "from pytube import Search, YouTube\n",
    "import os\n",
    "import glob\n",
    "\n",
    "CLIENT_ID = '06a158c55b99d79dd4544663ddd10dc6'\n",
    "CLIENT_SECRET = 'a6351a2737fcde2652911209b2df0989'\n",
    "auth = KKBOXOAuth(CLIENT_ID, CLIENT_SECRET)\n",
    "token = auth.fetch_access_token_by_client_credentials()\n",
    "kkboxapi = KKBOXAPI(token)\n",
    "\n",
    "\n",
    "def get_singers(file_name):\n",
    "    singers = []\n",
    "    with open(file_name,'r') as f:\n",
    "        line = f.readline()\n",
    "        while line:\n",
    "            singers.append(line.strip())\n",
    "            line = f.readline()\n",
    "        \n",
    "    return singers\n",
    "\n",
    "def get_singer_id(name):\n",
    "    result = kkboxapi.search_fetcher.search(name, types = ['artist'])\n",
    "    return result['artists']['data'][0]['id']\n",
    "\n",
    "def get_top_track_from_id(singer_id = 'KnECoRl82J54gSwkat'):\n",
    "    result = kkboxapi.artist_fetcher.fetch_top_tracks_of_artist(singer_id)\n",
    "    return result['data']\n",
    "\n",
    "def download_mp3_from_tracks(tracks, target_path = 'Downloads/'):\n",
    "    for track in tracks:\n",
    "        song_name = track['name']\n",
    "        singer = track['album']['artist']['name']\n",
    "        s = Search(\"{} {}\".format(song_name, singer))\n",
    "        \n",
    "        yt = s.results[0]\n",
    "        video = yt.streams.filter(only_audio=True).first()\n",
    "        out_file = video.download(output_path=target_path)\n",
    "        new_path = change_file_name(out_file) \n",
    "\n",
    "        print(os.path.basename(new_path) + \" has been successfully downloaded.\")\n",
    "    \n",
    "def change_file_name(file_name):\n",
    "    directory = os.path.dirname(file_name)  # 获取目录部分\n",
    "    filename = os.path.basename(file_name)  # 获取文件名部分\n",
    "    \n",
    "    # 获取当前文件夹中的所有文件\n",
    "    mp3_files = glob.glob(os.path.join(directory, \"*.mp3\"))\n",
    "    # 计算文件数量\n",
    "    mp3_file_count = len(mp3_files)\n",
    "    name_without_ext = os.path.splitext(filename)[0]\n",
    "    # 构建新的文件名\n",
    "    new_filename = f\"{mp3_file_count+1:02d}_{name_without_ext}.mp3\"\n",
    "\n",
    "    # 构建新的文件路径\n",
    "    new_path = os.path.join(directory, new_filename)\n",
    "    os.rename(file_name, new_path)\n",
    "    return new_path"
   ]
  },
  {
   "cell_type": "code",
   "execution_count": 84,
   "id": "e1cd1bff-e9cb-46f4-8b23-6a2e503d1aba",
   "metadata": {},
   "outputs": [
    {
     "name": "stdout",
     "output_type": "stream",
     "text": [
      "Start Downloading popo j's 14 songs ...\n",
      "01_POPO J【曖人】(L)over｜Official Music Video.mp3 has been successfully downloaded.\n",
      "02_POPO J【I Will Never Change】｜Official Music Video.mp3 has been successfully downloaded.\n",
      "03_POPO J【鯛先生】MrDiao｜Official Visualizer.mp3 has been successfully downloaded.\n",
      "04_桃子、韓森、POPO J【旋轉木馬】Carousel｜Official Music Video.mp3 has been successfully downloaded.\n",
      "05_POPO J【LOSER】｜Official Music Video.mp3 has been successfully downloaded.\n",
      "06_POPO J【小屌哥】Small Dick  ft範例三、湯捷｜Official Music Video.mp3 has been successfully downloaded.\n",
      "07_POPO J【Bars at Barcelona】feat桃子A1J.mp3 has been successfully downloaded.\n",
      "08_FIRE.mp3 has been successfully downloaded.\n",
      "09_Dont Call Me (feat A1j).mp3 has been successfully downloaded.\n",
      "10_Dreams Dont Work Unless You Do.mp3 has been successfully downloaded.\n",
      "11_Poportfolio (intro).mp3 has been successfully downloaded.\n",
      "12_AM0230 (outro).mp3 has been successfully downloaded.\n",
      "13_I Dont Like Your Attitude (skit).mp3 has been successfully downloaded.\n",
      "14_Interview (skit).mp3 has been successfully downloaded.\n",
      "Start Downloading capper's 30 songs ...\n"
     ]
    },
    {
     "name": "stderr",
     "output_type": "stream",
     "text": [
      "Unexpected renderer encountered.\n",
      "Renderer name: dict_keys(['reelShelfRenderer'])\n",
      "Search term: 雪 Distance Capper\n",
      "Please open an issue at https://github.com/pytube/pytube/issues and provide this log output.\n",
      "Unexpected renderer encountered.\n",
      "Renderer name: dict_keys(['reelShelfRenderer'])\n",
      "Search term: 雪 Distance Capper\n",
      "Please open an issue at https://github.com/pytube/pytube/issues and provide this log output.\n"
     ]
    },
    {
     "name": "stdout",
     "output_type": "stream",
     "text": [
      "15_Capper Ft 羅言 - 雪 Distance『可是雪 飄進雙眼 看不見你橋牌的謊言』【Lyrics Video】.mp3 has been successfully downloaded.\n",
      "16_𝙲𝚊𝚙𝚙𝚎𝚛- 纵容  𝙸𝚗𝚍𝚞𝚕𝚐𝚎 (𝙾𝚏𝚏𝚒𝚌𝚒𝚊𝚕 𝙻𝚢𝚛𝚒𝚌 𝚅𝚒𝚍𝚎𝚘).mp3 has been successfully downloaded.\n",
      "17_无人区玫瑰 No mans land of Rose.mp3 has been successfully downloaded.\n",
      "18_Capper - 年輕的國王們 Gen Z Group  因為我們的時間比較貴 所以都沒時間浪費 動態歌詞 Lyric Video.mp3 has been successfully downloaded.\n",
      "19_柑橘乌云Please.mp3 has been successfully downloaded.\n",
      "20_《中國說唱巔峰對決》EP11純享：Capper《因為》 用音樂錶達感性 愛奇藝.mp3 has been successfully downloaded.\n",
      "21_好吧.mp3 has been successfully downloaded.\n",
      "22_衔尾蛇 Ouroboros Skit.mp3 has been successfully downloaded.\n",
      "23_Capper Cool-Aid陈轶伦 - 朋友  Official Music Video.mp3 has been successfully downloaded.\n",
      "24_《少年說唱企劃》純享：Capper《Huzzah！（萬歲）》  愛奇藝.mp3 has been successfully downloaded.\n",
      "25_Capper - 都市问题 feat LEGGO (Official Lyric Video).mp3 has been successfully downloaded.\n",
      "26_血统 Blood line.mp3 has been successfully downloaded.\n",
      "27_污秽 Drit.mp3 has been successfully downloaded.\n",
      "28_每一天 Errday.mp3 has been successfully downloaded.\n",
      "29_还有答案.mp3 has been successfully downloaded.\n",
      "30_克什米尔山羊 Kashmir Goat.mp3 has been successfully downloaded.\n",
      "31_航线Voyage - Capper【动态歌词Lyric Video】.mp3 has been successfully downloaded.\n",
      "32_心，逃，亡 Take my heart away.mp3 has been successfully downloaded.\n",
      "33_《中國說唱巔峰對決》EP05純享：MC HotDog熱狗 Capper GALI《禮拜日 Life goes on》｜愛奇藝.mp3 has been successfully downloaded.\n",
      "34_舞女郎 Dillydally.mp3 has been successfully downloaded.\n",
      "35_甲Armour.mp3 has been successfully downloaded.\n",
      "36_Capper - 牧羊少年Ἐνδυμίων  (Official Lyric Video ).mp3 has been successfully downloaded.\n",
      "37_不负责 Why u blame on me.mp3 has been successfully downloaded.\n",
      "38_达摩克利斯之剑 Game of Thrones.mp3 has been successfully downloaded.\n",
      "39_炼金术 Alchemy.mp3 has been successfully downloaded.\n",
      "40_怎样 WSID-Capper【歌詞版】.mp3 has been successfully downloaded.\n",
      "41_天使俱乐部 Genius Club.mp3 has been successfully downloaded.\n",
      "42_Capper - 劍與薔薇 S&R Intro.mp3 has been successfully downloaded.\n",
      "43_划火柴 Burn slow.mp3 has been successfully downloaded.\n",
      "44_模糊说唱 Mumble Rap-Capper【歌詞版】 『 我只是在用我的方式在散播爱 』.mp3 has been successfully downloaded.\n"
     ]
    }
   ],
   "source": [
    "singers = get_singers('test_singers.txt')\n",
    "for name in singers:\n",
    "    singer_id = get_singer_id(name)\n",
    "    tracks = get_top_track_from_id(singer_id)\n",
    "    print(f\"Start Downloading {name}\\'s {len(tracks)} songs ...\")\n",
    "    download_mp3_from_tracks(tracks)"
   ]
  },
  {
   "cell_type": "code",
   "execution_count": 8,
   "id": "7afeee97-f85d-4301-8348-78192d1b5f56",
   "metadata": {},
   "outputs": [
    {
     "name": "stderr",
     "output_type": "stream",
     "text": [
      "Unexpected renderer encountered.\n",
      "Renderer name: dict_keys(['reelShelfRenderer'])\n",
      "Search term: 希望 李宗盛 (Jonathan Lee)\n",
      "Please open an issue at https://github.com/pytube/pytube/issues and provide this log output.\n",
      "Unexpected renderer encountered.\n",
      "Renderer name: dict_keys(['reelShelfRenderer'])\n",
      "Search term: 希望 李宗盛 (Jonathan Lee)\n",
      "Please open an issue at https://github.com/pytube/pytube/issues and provide this log output.\n"
     ]
    },
    {
     "data": {
      "text/plain": [
       "[<pytube.__main__.YouTube object: videoId=UWP0rgs-P3I>,\n",
       " <pytube.__main__.YouTube object: videoId=SFMee2CRZdE>,\n",
       " <pytube.__main__.YouTube object: videoId=OKO2UVZUlzo>,\n",
       " <pytube.__main__.YouTube object: videoId=rQrROF-mOGQ>,\n",
       " <pytube.__main__.YouTube object: videoId=wF0kCGbuVT4>,\n",
       " <pytube.__main__.YouTube object: videoId=o_0Zhe4uED0>,\n",
       " <pytube.__main__.YouTube object: videoId=69a6R4Tqc48>,\n",
       " <pytube.__main__.YouTube object: videoId=rVEMTxg_LrU>,\n",
       " <pytube.__main__.YouTube object: videoId=F3W1jEKHJYA>,\n",
       " <pytube.__main__.YouTube object: videoId=w-vDvcOyJo8>,\n",
       " <pytube.__main__.YouTube object: videoId=CdqbMdYZlsU>,\n",
       " <pytube.__main__.YouTube object: videoId=aVISOEiYxv4>,\n",
       " <pytube.__main__.YouTube object: videoId=_-03nHxD1OQ>,\n",
       " <pytube.__main__.YouTube object: videoId=k_05S7hYWZk>,\n",
       " <pytube.__main__.YouTube object: videoId=DlMvWV-6_aU>,\n",
       " <pytube.__main__.YouTube object: videoId=mfQel3jxK-g>,\n",
       " <pytube.__main__.YouTube object: videoId=M3k9PhyNEto>,\n",
       " <pytube.__main__.YouTube object: videoId=mXG58_3r5vg>,\n",
       " <pytube.__main__.YouTube object: videoId=oYPE5QYPdn4>,\n",
       " <pytube.__main__.YouTube object: videoId=170-YV4EP6k>]"
      ]
     },
     "execution_count": 8,
     "metadata": {},
     "output_type": "execute_result"
    }
   ],
   "source": [
    "s = Search(\"希望 李宗盛 (Jonathan Lee)\")\n",
    "s.results"
   ]
  }
 ],
 "metadata": {
  "kernelspec": {
   "display_name": "Python 3 (ipykernel)",
   "language": "python",
   "name": "python3"
  },
  "language_info": {
   "codemirror_mode": {
    "name": "ipython",
    "version": 3
   },
   "file_extension": ".py",
   "mimetype": "text/x-python",
   "name": "python",
   "nbconvert_exporter": "python",
   "pygments_lexer": "ipython3",
   "version": "3.11.3"
  }
 },
 "nbformat": 4,
 "nbformat_minor": 5
}
