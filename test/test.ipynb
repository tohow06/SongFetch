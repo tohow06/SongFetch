{
 "cells": [
  {
   "cell_type": "code",
   "execution_count": null,
   "id": "1190d1a3",
   "metadata": {},
   "outputs": [],
   "source": [
    "import glob\n",
    "import os\n",
    "import json\n",
    "\n",
    "from kkbox_developer_sdk.api import KKBOXAPI\n",
    "from kkbox_developer_sdk.auth_flow import KKBOXOAuth\n",
    "\n",
    "import sys\n",
    "sys.path.append('..')  # 將上一層目錄添加到 sys.path 中\n",
    "\n",
    "from pytube import Search, YouTube, Playlist\n",
    "\n",
    "# read CLIENT_ID and CLIENT_SECRET from secret.json\n",
    "CLIENT_ID = json.load(open(\"../secret.json\"))[\"CLIENT_ID\"]\n",
    "CLIENT_SECRET = json.load(open(\"../secret.json\"))[\"CLIENT_SECRET\"]\n",
    "auth = KKBOXOAuth(CLIENT_ID, CLIENT_SECRET)\n",
    "token = auth.fetch_access_token_by_client_credentials()\n",
    "kkboxapi = KKBOXAPI(token)"
   ]
  },
  {
   "cell_type": "code",
   "execution_count": null,
   "id": "602cdca6",
   "metadata": {},
   "outputs": [],
   "source": [
    "pl = Playlist(\"https://www.youtube.com/playlist?list=PL3OrA2XJoWPnkzeA8WH0-aBhd0_KzZKXP\")\n",
    "for vid in pl.videos:\n",
    "    print(vid.title)"
   ]
  },
  {
   "cell_type": "code",
   "execution_count": null,
   "id": "2147108c",
   "metadata": {},
   "outputs": [],
   "source": [
    "pl.title"
   ]
  },
  {
   "cell_type": "code",
   "execution_count": null,
   "id": "761e2ba6",
   "metadata": {},
   "outputs": [],
   "source": [
    "pl.owner"
   ]
  },
  {
   "cell_type": "code",
   "execution_count": null,
   "id": "3c68db79",
   "metadata": {},
   "outputs": [],
   "source": []
  }
 ],
 "metadata": {
  "kernelspec": {
   "display_name": "Python 3 (ipykernel)",
   "language": "python",
   "name": "python3"
  },
  "language_info": {
   "codemirror_mode": {
    "name": "ipython",
    "version": 3
   },
   "file_extension": ".py",
   "mimetype": "text/x-python",
   "name": "python",
   "nbconvert_exporter": "python",
   "pygments_lexer": "ipython3",
   "version": "3.11.3"
  }
 },
 "nbformat": 4,
 "nbformat_minor": 5
}
